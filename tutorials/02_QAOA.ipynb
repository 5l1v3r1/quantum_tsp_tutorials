{
 "cells": [
  {
   "cell_type": "markdown",
   "metadata": {},
   "source": [
    "# QAOA - Quantum Approximate Optimization Algorithm"
   ]
  },
  {
   "cell_type": "markdown",
   "metadata": {},
   "source": [
    "In this notebook I would like to cover one of the most prominent algorithms in the quantum computing in the last few years."
   ]
  },
  {
   "cell_type": "markdown",
   "metadata": {},
   "source": [
    "In this tutorial you will learn the following:\n",
    "- How to use pyQuil - python platform for quantum computing?\n",
    "- What is QAOA?\n",
    "TODO"
   ]
  },
  {
   "cell_type": "markdown",
   "metadata": {},
   "source": [
    "## Prerequisites"
   ]
  },
  {
   "cell_type": "markdown",
   "metadata": {},
   "source": [
    "Before we can go into QAOA itself, you should prepare a couple of things:\n",
    "1. Configure your Forest API Key - go to http://forest.rigetti.com, find section \"Get API Key\" and follow the instructions\n",
    "2. Install [pyQuil](https://github.com/rigetticomputing/pyquil) and [Grove](https://github.com/rigetticomputing/grove)\n",
    "3. Learn the basics of quantum computing by yourself - there are plenty of great resources about the basics in the web and I decided I don't want to reinvent the wheel in this tutorial. I recommend going to [pyQuil documentation](http://pyquil.readthedocs.io/en/stable/).\n",
    "\n",
    "Even though I tried to make this tutorial as accessible to the not-quantum-computing people as possible, you probably need some level of familiarity with the following concepts:\n",
    "- qubits\n",
    "- quantum gates\n",
    "- superposition\n",
    "- entanglement\n",
    "\n",
    "You don't need to go very in-depth - I think spending about 30 minutes with the pyQuil docs should be enough for the beginning. And if something is still confusing later onyou can always come back to the documentation when you need it :)\n"
   ]
  },
  {
   "cell_type": "markdown",
   "metadata": {},
   "source": [
    "## QAOA - intro"
   ]
  },
  {
   "cell_type": "markdown",
   "metadata": {},
   "source": [
    "QAOA is an algorithm for solving a broad range of optimization problems using NISQ (Noisy Intermediate-Scale Quantum) devices. \n",
    "\n",
    "Let's start easy and instead of going straight to the TSP we will solve MaxCut problem. This part is based on the [Rigetti's tutorial on QAOA](https://grove-docs.readthedocs.io/en/latest/qaoa.html)."
   ]
  },
  {
   "cell_type": "markdown",
   "metadata": {},
   "source": [
    "### MaxCut - explanation"
   ]
  },
  {
   "cell_type": "markdown",
   "metadata": {},
   "source": [
    "In the MaxCut problem we start with a graph and we want to divide it into two subgraphs in such way, that the edges between them would have the higher possible sum."
   ]
  },
  {
   "cell_type": "markdown",
   "metadata": {},
   "source": [
    "#TODO Picture and finish this section"
   ]
  },
  {
   "cell_type": "markdown",
   "metadata": {},
   "source": [
    "### QAOA solves MaxCut - quick take"
   ]
  },
  {
   "cell_type": "markdown",
   "metadata": {},
   "source": [
    "We will use a class maxcut_solver which we can find in the grove library."
   ]
  },
  {
   "cell_type": "markdown",
   "metadata": {},
   "source": [
    "Now, let's take a graph from the previous section.\n",
    "We encode it as a list of tuples, where each tuple represents an edge between given nodes."
   ]
  },
  {
   "cell_type": "code",
   "execution_count": 2,
   "metadata": {},
   "outputs": [],
   "source": [
    "first_graph = [(0, 1), (1, 2), (2, 3), (3, 0)]"
   ]
  },
  {
   "cell_type": "markdown",
   "metadata": {},
   "source": [
    "TODO: picture and use a different graph with single solution"
   ]
  },
  {
   "cell_type": "markdown",
   "metadata": {},
   "source": [
    "Now let's try to solve MaxCut problem for this graph using maxcut_solver from the grove library.\n",
    "\n",
    "Keep in mind that runtime of this algorithm are non-deterministic - it should run in under a minute, but sometimes it takes longer.\n",
    "TODO: make it red."
   ]
  },
  {
   "cell_type": "code",
   "execution_count": 1,
   "metadata": {},
   "outputs": [],
   "source": [
    "import numpy as np\n",
    "from grove.pyqaoa.maxcut_qaoa import maxcut_qaoa\n",
    "import pyquil.api as api\n",
    "qvm_connection = api.QVMConnection()"
   ]
  },
  {
   "cell_type": "code",
   "execution_count": 19,
   "metadata": {},
   "outputs": [],
   "source": [
    "%%capture \n",
    "#%%capture supresses printing. \n",
    "#get_angles() prints out a lot of stuff that we don't care about right now.\n",
    "maxcut_solver = maxcut_qaoa(graph=first_graph)\n",
    "betas, gammas = maxcut_solver.get_angles()"
   ]
  },
  {
   "cell_type": "markdown",
   "metadata": {},
   "source": [
    "Now that we have the values of betas and gammas we can run the actual program."
   ]
  },
  {
   "cell_type": "code",
   "execution_count": 21,
   "metadata": {},
   "outputs": [],
   "source": [
    "angles = np.hstack((betas, gammas))\n",
    "param_prog = maxcut_solver.get_parameterized_program()\n",
    "prog = param_prog(angles)\n",
    "qubits = [0, 1, 2, 3]\n",
    "measurements = qvm_connection.run_and_measure(prog, qubits, trials=1000)"
   ]
  },
  {
   "cell_type": "markdown",
   "metadata": {},
   "source": [
    "And see what are the results:"
   ]
  },
  {
   "cell_type": "code",
   "execution_count": 29,
   "metadata": {},
   "outputs": [
    {
     "data": {
      "text/plain": [
       "[((0, 1, 0, 1), 278),\n",
       " ((1, 0, 1, 0), 253),\n",
       " ((0, 1, 1, 0), 89),\n",
       " ((0, 0, 1, 1), 78),\n",
       " ((1, 0, 0, 1), 74),\n",
       " ((1, 1, 0, 0), 72),\n",
       " ((0, 1, 1, 1), 29),\n",
       " ((1, 0, 1, 1), 18),\n",
       " ((1, 1, 0, 1), 17),\n",
       " ((0, 0, 0, 1), 16),\n",
       " ((0, 0, 0, 0), 15),\n",
       " ((0, 1, 0, 0), 13),\n",
       " ((1, 1, 1, 0), 13),\n",
       " ((1, 0, 0, 0), 12),\n",
       " ((0, 0, 1, 0), 12),\n",
       " ((1, 1, 1, 1), 11)]"
      ]
     },
     "execution_count": 29,
     "metadata": {},
     "output_type": "execute_result"
    }
   ],
   "source": [
    "from collections import Counter\n",
    "measurements = [tuple(measurement) for measurement in measurements]\n",
    "measurements_counter = Counter(measurements)\n",
    "measurements_counter.most_common()"
   ]
  },
  {
   "cell_type": "markdown",
   "metadata": {},
   "source": [
    "So as we can see, the correct results are at the top of our lists - so everything seems good.\n",
    "\n",
    "But why?\n",
    "\n",
    "We will go through the code step by step in the next section"
   ]
  },
  {
   "cell_type": "markdown",
   "metadata": {},
   "source": [
    "### QAOA solves MaxCut - details"
   ]
  },
  {
   "cell_type": "markdown",
   "metadata": {},
   "source": [
    "#### Finding the right angles"
   ]
  },
  {
   "cell_type": "code",
   "execution_count": 30,
   "metadata": {},
   "outputs": [
    {
     "name": "stdout",
     "output_type": "stream",
     "text": [
      "WARNING: Fast method for expectation will be used. Noise\n",
      "                     models will be ineffective\n",
      "\tParameters: [3.06785487 1.05495912] \n",
      "\tE => -1.7505388790874525\n",
      "\tParameters: [3.38890945 0.99362428] \n",
      "\tE => -2.764202773444961\n",
      "\tParameters: [3.46025492 1.06722608] \n",
      "\tE => -2.6428589801781284\n",
      "\tParameters: [3.60294584 1.01815822] \n",
      "\tE => -2.8601048306171584\n",
      "\tParameters: [3.60294584 1.01815822] \n",
      "\tE => -2.8546884930214387\n",
      "\tParameters: [3.60294584 0.96909035] \n",
      "\tE => -2.816730274478843\n",
      "\tParameters: [3.53160038 1.00589125] \n",
      "\tE => -2.9042787706429687\n",
      "\tParameters: [3.49592765 0.92615597] \n",
      "\tE => -2.949346734906352\n",
      "\tParameters: [3.49592765 0.92615597] \n",
      "\tE => -2.930042189056577\n",
      "\tParameters: [3.5182231  0.82878692] \n",
      "\tE => -2.9941800668645073\n",
      "\tParameters: [3.5182231  0.82878692] \n",
      "\tE => -2.951103255086815\n",
      "\tParameters: [3.5182231  0.82878692] \n",
      "\tE => -2.957154664312718\n",
      "\tParameters: [3.5182231  0.82878692] \n",
      "\tE => -2.9938695502656736\n",
      "\tParameters: [3.5182231  0.82878692] \n",
      "\tE => -2.993420645972215\n",
      "\tParameters: [3.54219072 0.80262378] \n",
      "\tE => -2.998907800917262\n",
      "\tParameters: [3.53536274 0.77356161] \n",
      "\tE => -2.9997106315001734\n",
      "\tParameters: [3.53536274 0.77356161] \n",
      "\tE => -2.998670288468402\n",
      "\tParameters: [3.53536274 0.77356161] \n",
      "\tE => -2.9996654283278636\n",
      "\tParameters: [3.53065543 0.77755901] \n",
      "\tE => -2.999771331161647\n",
      "\tParameters: [3.5333237  0.78691328] \n",
      "\tE => -2.999987912183396\n",
      "\tParameters: [3.5333237  0.78691328] \n",
      "\tE => -2.9998844923913492\n",
      "Values of betas: [3.5333237]\n",
      "Values of gammas: [0.78691328]\n"
     ]
    }
   ],
   "source": [
    "# We initialize the maxcut_qaoa object with our graph\n",
    "maxcut_solver = maxcut_qaoa(graph=first_graph)\n",
    "# The QAOA algorithm tries to find the optimal values of betas and gammas.\n",
    "# This line is where all the optimization takes place.\n",
    "betas, gammas = maxcut_solver.get_angles()\n",
    "print(\"Values of betas:\", betas)\n",
    "print(\"Values of gammas:\", gammas)"
   ]
  },
  {
   "cell_type": "markdown",
   "metadata": {},
   "source": [
    "This time we have not supressed the output and with every iteration of the algorithm you can see two lines being printed.\n",
    "<br>\n",
    "The first one is parameters - these are values of betas and gammas.\n",
    "<br>\n",
    "The second one is the energy value - it's something we try to minize. As you can probably see, the minimization process isn't ideally smooth. Value is generally getting smaller and smaller, but not necessarily every step yields an improvement.\n",
    "<br>\n",
    "We will deal with what exactly this energy means later on."
   ]
  },
  {
   "cell_type": "markdown",
   "metadata": {},
   "source": [
    "#### Creating a circuit"
   ]
  },
  {
   "cell_type": "code",
   "execution_count": 32,
   "metadata": {},
   "outputs": [
    {
     "name": "stdout",
     "output_type": "stream",
     "text": [
      "[3.5333237  0.78691328]\n"
     ]
    }
   ],
   "source": [
    "# We create an array of angles with correct format\n",
    "angles = np.hstack((betas, gammas))\n",
    "print(angles)"
   ]
  },
  {
   "cell_type": "code",
   "execution_count": 38,
   "metadata": {},
   "outputs": [
    {
     "name": "stdout",
     "output_type": "stream",
     "text": [
      "H 0\n",
      "H 1\n",
      "H 2\n",
      "H 3\n",
      "CNOT 0 1\n",
      "RZ(0.7869132823909201) 1\n",
      "CNOT 0 1\n",
      "X 0\n",
      "PHASE(0.39345664119546003) 0\n",
      "X 0\n",
      "PHASE(0.39345664119546003) 0\n",
      "CNOT 0 3\n",
      "RZ(0.7869132823909201) 3\n",
      "CNOT 0 3\n",
      "X 0\n",
      "PHASE(0.39345664119546003) 0\n",
      "X 0\n",
      "PHASE(0.39345664119546003) 0\n",
      "CNOT 1 2\n",
      "RZ(0.7869132823909201) 2\n",
      "CNOT 1 2\n",
      "X 0\n",
      "PHASE(0.39345664119546003) 0\n",
      "X 0\n",
      "PHASE(0.39345664119546003) 0\n",
      "CNOT 2 3\n",
      "RZ(0.7869132823909201) 3\n",
      "CNOT 2 3\n",
      "X 0\n",
      "PHASE(0.39345664119546003) 0\n",
      "X 0\n",
      "PHASE(0.39345664119546003) 0\n",
      "H 0\n",
      "RZ(-7.066647405913116) 0\n",
      "H 0\n",
      "H 1\n",
      "RZ(-7.066647405913116) 1\n",
      "H 1\n",
      "H 2\n",
      "RZ(-7.066647405913116) 2\n",
      "H 2\n",
      "H 3\n",
      "RZ(-7.066647405913116) 3\n",
      "H 3\n",
      "\n",
      "Number of gates: 44\n"
     ]
    }
   ],
   "source": [
    "# We take a template for quil program from the maxcut_solver.\n",
    "param_prog = maxcut_solver.get_parameterized_program()\n",
    "# We initialize this program with the angles we have found\n",
    "prog = param_prog(angles)\n",
    "# Now we can print the program. \n",
    "# Some of the values you see here are the angles we calculated earlier.\n",
    "print(prog)\n",
    "print(\"Number of gates:\", len(prog))"
   ]
  },
  {
   "cell_type": "markdown",
   "metadata": {},
   "source": [
    "#### Running the quantum program"
   ]
  },
  {
   "cell_type": "code",
   "execution_count": 41,
   "metadata": {},
   "outputs": [],
   "source": [
    "# These are just the ids of qubits we want to use.\n",
    "# It's not very important if you don't use the real QPU.\n",
    "qubits = [0, 1, 2, 3]\n",
    "# Here we connect to the Forest API and run our program there.\n",
    "# We do that 1000 times and after each one we measure the output.\n",
    "measurements = qvm_connection.run_and_measure(prog, qubits, trials=1000)"
   ]
  },
  {
   "cell_type": "markdown",
   "metadata": {},
   "source": [
    "#### Analyzing the results"
   ]
  },
  {
   "cell_type": "code",
   "execution_count": 42,
   "metadata": {},
   "outputs": [
    {
     "data": {
      "text/plain": [
       "[((1, 0, 1, 0), 272),\n",
       " ((0, 1, 0, 1), 267),\n",
       " ((1, 1, 0, 0), 92),\n",
       " ((0, 0, 1, 1), 73),\n",
       " ((1, 0, 0, 1), 69),\n",
       " ((0, 1, 1, 0), 68),\n",
       " ((0, 1, 1, 1), 21),\n",
       " ((1, 1, 0, 1), 20),\n",
       " ((0, 0, 0, 1), 18),\n",
       " ((1, 1, 1, 0), 17),\n",
       " ((1, 0, 1, 1), 17),\n",
       " ((0, 0, 1, 0), 15),\n",
       " ((1, 1, 1, 1), 15),\n",
       " ((0, 0, 0, 0), 14),\n",
       " ((1, 0, 0, 0), 11),\n",
       " ((0, 1, 0, 0), 11)]"
      ]
     },
     "execution_count": 42,
     "metadata": {},
     "output_type": "execute_result"
    }
   ],
   "source": [
    "# Since list of 1000 elements is hard to analyze, we use Counter\n",
    "from collections import Counter\n",
    "# This is just a hack - we can't use Counter on a list of lists but we can on a list of tuples.\n",
    "measurements = [tuple(measurement) for measurement in measurements]\n",
    "measurements_counter = Counter(measurements)\n",
    "# This line gives us the results in the diminishing order\n",
    "measurements_counter.most_common()"
   ]
  },
  {
   "cell_type": "markdown",
   "metadata": {},
   "source": [
    "#### Conclusions"
   ]
  },
  {
   "cell_type": "markdown",
   "metadata": {},
   "source": [
    "This is a good time to cover some fundamental topics:\n",
    "<br>\n",
    "**1. Probabilistic nature of quantum computing**\n",
    "<br>\n",
    "One of the most basic rules of the quantum mechanics is that the act of observation changes the state of the system that we observe. \n",
    "<br>\n",
    "Even though our algorithm produces some state which is a combination of all the states you see above, we can't measure it directly. What we can do (and we did) is to measure it repeatedly and get some distribution of the results.\n",
    "<br>\n",
    "Fortunately, we use a simulator and we can look how the state we produced looks exactly:\n"
   ]
  },
  {
   "cell_type": "code",
   "execution_count": 46,
   "metadata": {},
   "outputs": [
    {
     "name": "stdout",
     "output_type": "stream",
     "text": [
      "(0.0003791911-0.1248956553j)|0000> + (-0.1246226478+0.0005903969j)|0001> + (-0.1246226478+0.0005903969j)|0010> + (-0.2503783672+0.1251031969j)|0011> + (-0.1246226478+0.0005903969j)|0100> + (-0.4996162177-0.126410765j)|0101> + (-0.2503783672+0.1251031969j)|0110> + (-0.1246226478+0.0005903969j)|0111> + (-0.1246226478+0.0005903969j)|1000> + (-0.2503783672+0.1251031969j)|1001> + (-0.4996162177-0.126410765j)|1010> + (-0.1246226478+0.0005903969j)|1011> + (-0.2503783672+0.1251031969j)|1100> + (-0.1246226478+0.0005903969j)|1101> + (-0.1246226478+0.0005903969j)|1110> + (0.0003791911-0.1248956553j)|1111>\n"
     ]
    }
   ],
   "source": [
    "wf = qvm_connection.wavefunction(prog)\n",
    "print(wf)"
   ]
  },
  {
   "cell_type": "markdown",
   "metadata": {},
   "source": [
    "This is hard to read and interpret, so let's print it in a different form."
   ]
  },
  {
   "cell_type": "code",
   "execution_count": 52,
   "metadata": {},
   "outputs": [
    {
     "name": "stdout",
     "output_type": "stream",
     "text": [
      "Probability amplitudes for all the possible states:\n",
      "0000 (0.0003791910996818887-0.12489565526984793j)\n",
      "0001 (-0.12462264778937672+0.0005903969201245737j)\n",
      "0010 (-0.1246226477893766+0.0005903969201245668j)\n",
      "0011 (-0.25037836723769236+0.1251031969382479j)\n",
      "0100 (-0.12462264778937665+0.0005903969201245113j)\n",
      "0101 (-0.49961621774324116-0.12641076498844267j)\n",
      "0110 (-0.2503783672376924+0.1251031969382479j)\n",
      "0111 (-0.12462264778937661+0.0005903969201245113j)\n",
      "1000 (-0.12462264778937661+0.0005903969201245113j)\n",
      "1001 (-0.2503783672376924+0.1251031969382479j)\n",
      "1010 (-0.49961621774324116-0.12641076498844267j)\n",
      "1011 (-0.12462264778937665+0.0005903969201245113j)\n",
      "1100 (-0.25037836723769236+0.1251031969382479j)\n",
      "1101 (-0.1246226477893766+0.0005903969201245668j)\n",
      "1110 (-0.12462264778937672+0.0005903969201245737j)\n",
      "1111 (0.0003791910996818887-0.12489565526984793j)\n"
     ]
    }
   ],
   "source": [
    "print(\"Probability amplitudes for all the possible states:\")\n",
    "for state_index in range(inst.nstates):\n",
    "    print(inst.states[state_index], wf[state_index])"
   ]
  },
  {
   "cell_type": "markdown",
   "metadata": {},
   "source": [
    "These numbers are still not very easy to interpret, but we can calculate the actual probabilities based on this:"
   ]
  },
  {
   "cell_type": "code",
   "execution_count": 53,
   "metadata": {},
   "outputs": [
    {
     "name": "stdout",
     "output_type": "stream",
     "text": [
      "Probabilities of measuring given states:\n",
      "0000 0.015599068491174772\n",
      "0001 0.015531152910558335\n",
      "0010 0.015531152910558305\n",
      "0011 0.07834013666478276\n",
      "0100 0.015531152910558317\n",
      "0101 0.26559604653702507\n",
      "0110 0.07834013666478279\n",
      "0111 0.015531152910558307\n",
      "1000 0.015531152910558307\n",
      "1001 0.07834013666478279\n",
      "1010 0.26559604653702507\n",
      "1011 0.015531152910558317\n",
      "1100 0.07834013666478276\n",
      "1101 0.015531152910558305\n",
      "1110 0.015531152910558335\n",
      "1111 0.015599068491174772\n"
     ]
    }
   ],
   "source": [
    "print(\"Probabilities of measuring given states:\")\n",
    "for state_index in range(inst.nstates):\n",
    "    print(inst.states[state_index], np.real(np.conj(wf[state_index])*wf[state_index]))\n"
   ]
  },
  {
   "cell_type": "markdown",
   "metadata": {},
   "source": [
    "These results "
   ]
  },
  {
   "cell_type": "markdown",
   "metadata": {},
   "source": [
    "TODO: create a nice histogram"
   ]
  },
  {
   "cell_type": "markdown",
   "metadata": {},
   "source": [
    "## QAOA - how does it work?"
   ]
  },
  {
   "cell_type": "markdown",
   "metadata": {},
   "source": [
    "## Additional resources"
   ]
  },
  {
   "cell_type": "markdown",
   "metadata": {},
   "source": [
    "- https://arxiv.org/pdf/1801.00862.pdf"
   ]
  },
  {
   "cell_type": "code",
   "execution_count": null,
   "metadata": {},
   "outputs": [],
   "source": []
  }
 ],
 "metadata": {
  "kernelspec": {
   "display_name": "qenv",
   "language": "python",
   "name": "qenv"
  },
  "language_info": {
   "codemirror_mode": {
    "name": "ipython",
    "version": 3
   },
   "file_extension": ".py",
   "mimetype": "text/x-python",
   "name": "python",
   "nbconvert_exporter": "python",
   "pygments_lexer": "ipython3",
   "version": "3.6.4"
  }
 },
 "nbformat": 4,
 "nbformat_minor": 2
}
