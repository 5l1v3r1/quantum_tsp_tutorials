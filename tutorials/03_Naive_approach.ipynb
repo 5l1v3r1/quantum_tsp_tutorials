{
 "cells": [
  {
   "cell_type": "markdown",
   "metadata": {},
   "source": [
    "# TSP + QAOA - naive approach"
   ]
  },
  {
   "cell_type": "markdown",
   "metadata": {},
   "source": [
    "In the previous tutorials we learned what is the Traveling Salesman Problem and how to use QAOA to solve optimization problems.\n",
    "<br>\n",
    "Now it's finally time to solve TSP using quantum computing!"
   ]
  },
  {
   "cell_type": "markdown",
   "metadata": {},
   "source": [
    "In this tutorial you will learn the following:\n",
    "\n",
    "- How to encode TSP for QAOA"
   ]
  },
  {
   "cell_type": "markdown",
   "metadata": {},
   "source": [
    "## Encoding the problem"
   ]
  },
  {
   "cell_type": "markdown",
   "metadata": {},
   "source": [
    "One of the important decisions we need to make with any problem we encounter is how to encode our input and output data. What will be the good choice depends on many factors:\n",
    "- what algorithm we use?\n",
    "- do we have any constraints (e.g. amount of data, memory)?\n",
    "- what hardware do we use?\n",
    "- many others"
   ]
  },
  {
   "cell_type": "markdown",
   "metadata": {},
   "source": [
    "One of the most convenient way of encoding solution to TSP is the one we used in the first part:\n",
    "\n",
    "0 -> 1 -> 2 -> 3 , which for Python translates into `[0,1,2,3]` or `(0,1,2,3)`.\n",
    "\n",
    "This means that we start from the city 0, then go to 1 and so on.\n",
    "\n",
    "However, in case of quantum computers, one of the main constraints is that we need to use binary representation. Qubits can take only 0 or 1 values during the measurement, so this format won't work."
   ]
  },
  {
   "cell_type": "markdown",
   "metadata": {},
   "source": [
    "We know that at any given time we can be only in one city. Hence, for N cities we have N time slots.\n",
    "<br>\n",
    "Using binary representation, we could use N strings (representing time slots) of N bits (representing cities), where the active bit in each string is the city that we visit.\n",
    "\n",
    "So in the case of [0,1,2,3] we will get the following matrix:\n",
    "\n",
    "$\\begin{bmatrix}\n",
    "1 & 0 & 0 & 0 \\\\\n",
    "0 & 1 & 0 & 0 \\\\\n",
    "0 & 0 & 1 & 0 \\\\\n",
    "0 & 0 & 0 & 1 \\\\\n",
    "\\end{bmatrix}$\n",
    "\n",
    "Which translates into the following string of bits:\n",
    "\n",
    "`[1,0,0,0, 0,1,0,0, 0,0,1,0, 0,0,0,1]`\n"
   ]
  },
  {
   "cell_type": "markdown",
   "metadata": {},
   "source": [
    "TODO: write about the problems with this encoding later"
   ]
  },
  {
   "cell_type": "markdown",
   "metadata": {},
   "source": [
    "This is a little bit unwieldy, so we will use the following helper methods:"
   ]
  },
  {
   "cell_type": "code",
   "execution_count": 29,
   "metadata": {},
   "outputs": [],
   "source": [
    "import numpy as np\n",
    "\n",
    "def points_order_to_binary_state(points_order):\n",
    "    \"\"\"\n",
    "    Transforms the order of points from the standard representation: [0, 1, 2],\n",
    "    to the binary one: [1,0,0,0,1,0,0,0,1]\n",
    "    \"\"\"\n",
    "    number_of_points = len(points_order)\n",
    "    binary_state = np.zeros((len(points_order))**2)\n",
    "    for j in range(len(points_order)):\n",
    "        p = points_order[j]\n",
    "        binary_state[(number_of_points) * (j) + (p)] = 1\n",
    "    return binary_state\n",
    "\n",
    "def binary_state_to_points_order(binary_state):\n",
    "    \"\"\"\n",
    "    Transforms the the order of points from the binary representation: [1,0,0,0,1,0,0,0,1],\n",
    "    to the binary one: [0, 1, 2]\n",
    "    \"\"\"\n",
    "    points_order = []\n",
    "    number_of_points = int(np.sqrt(len(binary_state)))\n",
    "    for p in range(number_of_points):\n",
    "        for j in range(number_of_points):\n",
    "            if binary_state[(number_of_points) * p + j] == 1:\n",
    "                points_order.append(j)\n",
    "    return points_order"
   ]
  },
  {
   "cell_type": "markdown",
   "metadata": {},
   "source": [
    "Let's see if it works on an example:"
   ]
  },
  {
   "cell_type": "code",
   "execution_count": 40,
   "metadata": {},
   "outputs": [
    {
     "name": "stdout",
     "output_type": "stream",
     "text": [
      "Binary representation of  [0, 1, 2] is [1. 0. 0. 0. 1. 0. 0. 0. 1.]\n",
      "[0, 1, 2] should be equal to [0, 1, 2]\n"
     ]
    }
   ],
   "source": [
    "points_order = [0, 1, 2]\n",
    "binary_state = points_order_to_binary_state(points_order)\n",
    "points_order_again = binary_state_to_points_order(binary_state)\n",
    "\n",
    "print(\"Binary representation of \", points_order, \"is\", binary_state)\n",
    "print(points_order_again, \"should be equal to\", points_order)"
   ]
  },
  {
   "cell_type": "markdown",
   "metadata": {},
   "source": [
    "## Quick overview "
   ]
  }
 ],
 "metadata": {
  "kernelspec": {
   "display_name": "qenv",
   "language": "python",
   "name": "qenv"
  },
  "language_info": {
   "codemirror_mode": {
    "name": "ipython",
    "version": 3
   },
   "file_extension": ".py",
   "mimetype": "text/x-python",
   "name": "python",
   "nbconvert_exporter": "python",
   "pygments_lexer": "ipython3",
   "version": "3.6.4"
  }
 },
 "nbformat": 4,
 "nbformat_minor": 2
}
